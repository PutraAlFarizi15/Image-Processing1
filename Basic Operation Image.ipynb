{
 "cells": [
  {
   "cell_type": "code",
   "execution_count": null,
   "id": "856aa1e9",
   "metadata": {},
   "outputs": [],
   "source": [
    "#membuat citra biner\n",
    "import cv2\n",
    "\n",
    "def to_citra_biner(img, t):\n",
    "    baris = img.shape[0]\n",
    "    kolom = img.shape[1]\n",
    "    binary = img.copy()\n",
    "    for i in range(baris):\n",
    "        for j in range(kolom):\n",
    "            if((img[i][j])< t):\n",
    "                binary[i, j] = 0\n",
    "            else:\n",
    "                binary[i, j] = 255\n",
    "    return binary\n",
    "\n",
    "img = cv2.imread('image3.jpg')\n",
    "img_grayscale = cv2.cvtColor(img, cv2.COLOR_BGR2GRAY)\n",
    "binary = to_citra_biner(img_grayscale, 90)\n",
    "    \n",
    "cv2.imshow('Grayscale',img_grayscale)\n",
    "cv2.imshow('Binerisasi',binary)\n",
    "cv2.waitKey(0)\n",
    "cv2.destroyAllWindows()"
   ]
  },
  {
   "cell_type": "code",
   "execution_count": null,
   "id": "df5f3e88",
   "metadata": {},
   "outputs": [],
   "source": [
    "#membuat citra negatif\n",
    "import cv2\n",
    "\n",
    "def negative_citra(img):\n",
    "    baris = img.shape[0]\n",
    "    kolom = img.shape[1]\n",
    "    negative = img.copy()\n",
    "    for i in range(baris):\n",
    "        for j in range(kolom):\n",
    "            negative[i, j] = 255-img[i, j]\n",
    "    return negative\n",
    "\n",
    "img = cv2.imread('image.jpg')\n",
    "img_grayscale = cv2.cvtColor(img, cv2.COLOR_BGR2GRAY)\n",
    "negative = negative_citra(img_grayscale)\n",
    "    \n",
    "cv2.imshow('Grayscale',img_grayscale)\n",
    "cv2.imshow('Negative',negative)\n",
    "cv2.waitKey(0)\n",
    "cv2.destroyAllWindows()"
   ]
  },
  {
   "cell_type": "code",
   "execution_count": null,
   "id": "f34e1cce",
   "metadata": {},
   "outputs": [],
   "source": [
    "import cv2\n",
    "\n",
    "def clipping(intensitas):\n",
    "    if intensitas < 0:\n",
    "        return 0\n",
    "    if intensitas > 255:\n",
    "        return 255\n",
    "    return intensitas\n",
    "\n",
    "def brightness_image_grayscale(img, kecerahan):\n",
    "    baris = img.shape[0]\n",
    "    kolom = img.shape[1]\n",
    "    bright = img.copy()\n",
    "    for i in range(baris):\n",
    "        for j in range(kolom):\n",
    "            bright[i, j] = clipping(img[i, j] + kecerahan)\n",
    "    return bright\n",
    "\n",
    "img = cv2.imread('nancy.png')\n",
    "img_grayscale = cv2.cvtColor(img, cv2.COLOR_BGR2GRAY)\n",
    "\n",
    "gambar_cerah_90 = brightness_image_grayscale(img_grayscale, 90)\n",
    "gambar_redup_90 = brightness_image_grayscale(img_grayscale, -90)\n",
    "    \n",
    "cv2.imshow('original', img)\n",
    "cv2.imshow('grayscale', img_grayscale)\n",
    "cv2.imshow('Kecerahan 90',gambar_cerah_90)\n",
    "cv2.imshow('Keredupan 90', gambar_redup_90)\n",
    "cv2.waitKey(0)\n",
    "cv2.destroyAllWindows()"
   ]
  },
  {
   "cell_type": "code",
   "execution_count": 8,
   "id": "f1508fcd",
   "metadata": {},
   "outputs": [
    {
     "name": "stderr",
     "output_type": "stream",
     "text": [
      "C:\\Users\\User\\AppData\\Local\\Temp\\ipykernel_11924\\1289779566.py:10: RuntimeWarning: overflow encountered in ubyte_scalars\n",
      "  result[i, j] = img[i, j] + img1[i, j]\n"
     ]
    }
   ],
   "source": [
    "#penjumlahan 2 citra\n",
    "import cv2\n",
    "\n",
    "def penambahan_citra(img, img1):\n",
    "    baris = img.shape[0]\n",
    "    kolom = img.shape[1]\n",
    "    result = img.copy()\n",
    "    for i in range(baris):\n",
    "        for j in range(kolom):\n",
    "            result[i, j] = img[i, j] + img1[i, j]\n",
    "            if(result[i, j]>255):\n",
    "                result[i, j] = 255\n",
    "    return result\n",
    "\n",
    "img = cv2.imread('image.jpg')\n",
    "img_grayscale = cv2.cvtColor(img, cv2.COLOR_BGR2GRAY)\n",
    "hasil_tambah = penambahan_citra(img_grayscale, img_grayscale)\n",
    "    \n",
    "cv2.imshow('Grayscale',img_grayscale)\n",
    "cv2.imshow('Hasil tambah',hasil_tambah)\n",
    "cv2.waitKey(0)\n",
    "cv2.destroyAllWindows()"
   ]
  },
  {
   "cell_type": "code",
   "execution_count": 7,
   "id": "703fd220",
   "metadata": {},
   "outputs": [],
   "source": [
    "#pengurangan 2 citra\n",
    "import cv2\n",
    "\n",
    "def penambahan_citra(img, img1):\n",
    "    baris = img.shape[0]\n",
    "    kolom = img.shape[1]\n",
    "    result = img.copy()\n",
    "    for i in range(baris):\n",
    "        for j in range(kolom):\n",
    "            result[i, j] = img[i, j] - img1[i, j]\n",
    "            if(result[i, j] != 0):\n",
    "                result[i, j] = 255\n",
    "    return result\n",
    "\n",
    "img = cv2.imread('image.jpg')\n",
    "img_grayscale = cv2.cvtColor(img, cv2.COLOR_BGR2GRAY)\n",
    "hasil_tambah = penambahan_citra(img_grayscale, img_grayscale)\n",
    "    \n",
    "cv2.imshow('Grayscale',img_grayscale)\n",
    "cv2.imshow('Hasil kurang',hasil_tambah)\n",
    "cv2.waitKey(0)\n",
    "cv2.destroyAllWindows()"
   ]
  },
  {
   "cell_type": "code",
   "execution_count": null,
   "id": "2e466e93",
   "metadata": {},
   "outputs": [],
   "source": []
  }
 ],
 "metadata": {
  "kernelspec": {
   "display_name": "Python 3 (ipykernel)",
   "language": "python",
   "name": "python3"
  },
  "language_info": {
   "codemirror_mode": {
    "name": "ipython",
    "version": 3
   },
   "file_extension": ".py",
   "mimetype": "text/x-python",
   "name": "python",
   "nbconvert_exporter": "python",
   "pygments_lexer": "ipython3",
   "version": "3.10.7"
  }
 },
 "nbformat": 4,
 "nbformat_minor": 5
}
